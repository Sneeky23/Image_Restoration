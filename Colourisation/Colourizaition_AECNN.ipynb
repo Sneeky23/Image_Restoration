{
  "nbformat": 4,
  "nbformat_minor": 0,
  "metadata": {
    "colab": {
      "name": "Colourizaition_AECNN.ipynb",
      "provenance": [],
      "collapsed_sections": [],
      "machine_shape": "hm"
    },
    "kernelspec": {
      "name": "python3",
      "display_name": "Python 3"
    },
    "language_info": {
      "name": "python"
    },
    "accelerator": "GPU"
  },
  "cells": [
    {
      "cell_type": "code",
      "metadata": {
        "colab": {
          "base_uri": "https://localhost:8080/"
        },
        "id": "uYU_dUd3eE4p",
        "outputId": "470c4b2d-7278-4c6c-c077-3eb53ad6911e"
      },
      "source": [
        "import os\n",
        "import zipfile \n",
        "import gdown\n",
        "import torch\n",
        "from natsort import natsorted\n",
        "from PIL import Image\n",
        "from torch.utils.data import Dataset\n",
        "from torchvision import transforms\n",
        "\n",
        "## Setup\n",
        "# Number of gpus available\n",
        "ngpu = 1\n",
        "device = torch.device('cuda:0' if (\n",
        "    torch.cuda.is_available() and ngpu > 0) else 'cpu')\n",
        "\n",
        "## Fetch data from Google Drive \n",
        "# Root directory for the dataset\n",
        "data_root = 'data/celeba'\n",
        "# Path to folder with the dataset\n",
        "dataset_folder = f'{data_root}/img_align_celeba'\n",
        "# URL for the CelebA dataset\n",
        "url = 'https://drive.google.com/uc?id=1cNIac61PSA_LqDFYFUeyaQYekYPc75NH'\n",
        "#url = 'https://drive.google.com/file/d/0B7EVK8r0v71pZjFTYXZWM3FlRnM/view?usp=sharing&resourcekey=0-dYn9z10tMJOBAkviAcfdyQ'\n",
        "# Path to download the dataset to\n",
        "download_path = f'{data_root}/img_align_celeba.zip'\n",
        "\n",
        "# Create required directories \n",
        "if not os.path.exists(data_root):\n",
        "  os.makedirs(data_root)\n",
        "  os.makedirs(dataset_folder)\n",
        "\n",
        "# Download the dataset from google drive\n",
        "gdown.download(url, download_path, quiet=False)\n",
        "\n",
        "# Unzip the downloaded file \n",
        "with zipfile.ZipFile(download_path, 'r') as ziphandler:\n",
        "  ziphandler.extractall(dataset_folder)\n"
      ],
      "execution_count": null,
      "outputs": [
        {
          "output_type": "stream",
          "name": "stderr",
          "text": [
            "Downloading...\n",
            "From: https://drive.google.com/uc?id=1cNIac61PSA_LqDFYFUeyaQYekYPc75NH\n",
            "To: /content/data/celeba/img_align_celeba.zip\n",
            "100%|██████████| 1.44G/1.44G [00:20<00:00, 70.3MB/s]\n"
          ]
        }
      ]
    },
    {
      "cell_type": "code",
      "metadata": {
        "colab": {
          "base_uri": "https://localhost:8080/"
        },
        "id": "mRAXCiuNeTat",
        "outputId": "7fe34b82-2ec3-4abd-867e-0a40404072e7"
      },
      "source": [
        "filenames_list = []\n",
        "dataset_dir = f'{data_root}/img_align_celeba/img_align_celeba/'\n",
        "\n",
        "for filename in sorted(os.listdir(dataset_dir)):\n",
        "    filenames_list.append(dataset_dir + filename)\n",
        "\n",
        "filenames_list = filenames_list[:100000]\n",
        "print(len(filenames_list))"
      ],
      "execution_count": null,
      "outputs": [
        {
          "output_type": "stream",
          "name": "stdout",
          "text": [
            "100000\n"
          ]
        }
      ]
    },
    {
      "cell_type": "code",
      "metadata": {
        "colab": {
          "base_uri": "https://localhost:8080/",
          "height": 35
        },
        "id": "tF76eMoVeWBk",
        "outputId": "6b483001-fc09-4079-87e1-bd12a96633da"
      },
      "source": [
        "filenames_list[0]"
      ],
      "execution_count": null,
      "outputs": [
        {
          "output_type": "execute_result",
          "data": {
            "application/vnd.google.colaboratory.intrinsic+json": {
              "type": "string"
            },
            "text/plain": [
              "'data/celeba/img_align_celeba/img_align_celeba/000001.jpg'"
            ]
          },
          "metadata": {},
          "execution_count": 3
        }
      ]
    },
    {
      "cell_type": "code",
      "metadata": {
        "id": "NjJBQHioeX98"
      },
      "source": [
        "#Colourization class\n",
        "import numpy as np\n",
        "from tensorflow.keras.utils import Sequence\n",
        "\n",
        "from skimage import io, color\n",
        "from skimage.transform import resize\n",
        "from matplotlib import pyplot as plt\n",
        "\n",
        "img_size = 128\n",
        "\n",
        "class Generator(Sequence):\n",
        "\n",
        "    def __init__(self, filenames_list, batch_size, img_size):\n",
        "        self.filenames_list = filenames_list\n",
        "        self.batch_size = batch_size\n",
        "        self.img_size = img_size\n",
        "\n",
        "    def __len__(self):\n",
        "        return int(np.ceil(len(self.filenames_list) / float(self.batch_size)))\n",
        "\n",
        "    def __getitem__(self, idx):\n",
        "\n",
        "        batch_x = self.filenames_list[idx * self.batch_size:(idx + 1) * self.batch_size]\n",
        "\n",
        "        input_tensor = np.empty((self.batch_size, self.img_size, self.img_size, 1), dtype=np.float32)\n",
        "        output_tensor = np.empty((self.batch_size, self.img_size, self.img_size, 2), dtype=np.float32)\n",
        "\n",
        "        i = 0\n",
        "        for filename in batch_x:\n",
        "\n",
        "            read_image = io.imread(filename)\n",
        "\n",
        "            image = resize(read_image, (self.img_size, self.img_size), anti_aliasing=False, mode='constant')\n",
        "\n",
        "\n",
        "            if image.shape == (self.img_size, self.img_size, 3) :\n",
        "               try:\n",
        "                    if not ((image[:, :, 0] == image[:, :, 1]).all()) \\\n",
        "                            or not ((image[:, :, 1] == image[:, :, 2]).all()):  # if not a BW image\n",
        "\n",
        "                        image = color.rgb2lab(image)\n",
        "                        # array image for output tensor\n",
        "                        output_tensor[i, :] = (image[:, :, 1:] / 128)\n",
        "                        # array values for input tensor\n",
        "                        input_tensor[i, :] = (image[:, :, 0] / 100).reshape(img_size, img_size, 1)\n",
        "                        i += 1\n",
        "               except:\n",
        "                    print(image.shape)\n",
        "                    io.imshow(image)\n",
        "                    plt.show()\n",
        "\n",
        "        return input_tensor, output_tensor"
      ],
      "execution_count": null,
      "outputs": []
    },
    {
      "cell_type": "code",
      "metadata": {
        "id": "ZFjW6HSGedcf"
      },
      "source": [
        "import os\n",
        "import tensorflow as tf\n",
        "import tensorflow.keras\n",
        "from keras.models import Sequential, load_model, Model\n",
        "from keras.layers import Conv2D, Conv2DTranspose, BatchNormalization, Activation, Input, ZeroPadding2D, Concatenate, AveragePooling2D, UpSampling2D\n",
        "from time import time\n",
        "from tensorflow.python.keras.callbacks import TensorBoard\n",
        "from tensorflow.keras.utils import plot_model\n",
        "import matplotlib.pyplot as plt"
      ],
      "execution_count": null,
      "outputs": []
    },
    {
      "cell_type": "code",
      "metadata": {
        "colab": {
          "base_uri": "https://localhost:8080/",
          "height": 35
        },
        "id": "cWsS3oJjfiS8",
        "outputId": "ac82e983-a6b0-432a-c8c7-1ec302821b0b"
      },
      "source": [
        "tf.test.gpu_device_name()"
      ],
      "execution_count": null,
      "outputs": [
        {
          "output_type": "execute_result",
          "data": {
            "application/vnd.google.colaboratory.intrinsic+json": {
              "type": "string"
            },
            "text/plain": [
              "'/device:GPU:0'"
            ]
          },
          "metadata": {},
          "execution_count": 11
        }
      ]
    },
    {
      "cell_type": "code",
      "metadata": {
        "id": "PozdWUWEfkQP"
      },
      "source": [
        "# Root directory for the logs\n",
        "log_root = f'{data_root}/logs'\n",
        "# Path to folder with the dataset\n",
        "weights_root = f'{data_root}//weights'\n",
        "\n",
        "# Create required directories \n",
        "if not os.path.exists(log_root):\n",
        "  os.makedirs(log_root)\n",
        "  os.makedirs(weights_root)"
      ],
      "execution_count": null,
      "outputs": []
    },
    {
      "cell_type": "code",
      "metadata": {
        "colab": {
          "base_uri": "https://localhost:8080/"
        },
        "id": "YB3xfxMRfmlc",
        "outputId": "3de0ae16-2b37-4eaa-a0a9-533b08265703"
      },
      "source": [
        "img_size = 128\n",
        "batch_size = 64\n",
        "\n",
        "training_batch_generator = Generator(filenames_list=filenames_list, batch_size=batch_size, img_size=img_size)\n",
        "\n",
        "tensorboard = TensorBoard(log_dir=log_root+\"/{}\".format(time()))\n",
        "\n",
        "# model\n",
        "\n",
        "input_layer = Input(shape=(img_size, img_size, 1))\n",
        "\n",
        "hidden_layer_1 = Conv2D(32, (7, 7), activation='relu', padding='same')(input_layer)\n",
        "hidden_layer_1 = BatchNormalization()(hidden_layer_1)\n",
        "hidden_layer_1 = AveragePooling2D()(hidden_layer_1)\n",
        "hidden_layer_2 = Conv2D(64, (5, 5), activation='relu',  padding='same')(hidden_layer_1)\n",
        "hidden_layer_2 = BatchNormalization()(hidden_layer_2)\n",
        "hidden_layer_2 = AveragePooling2D()(hidden_layer_2)\n",
        "hidden_layer_3 = Conv2D(128, (3, 3), activation='relu', padding='same')(hidden_layer_2)\n",
        "hidden_layer_3 = BatchNormalization()(hidden_layer_3)\n",
        "hidden_layer_3 = UpSampling2D()(hidden_layer_3)\n",
        "hidden_layer_4 = Conv2D(64, (3, 3), activation='relu', padding='same')(hidden_layer_3)\n",
        "hidden_layer_4 = BatchNormalization()(hidden_layer_4)\n",
        "hidden_layer_4 = UpSampling2D()(hidden_layer_4)\n",
        "hidden_layer_5 = Conv2D(32, (3, 3), activation='relu', padding='same')(hidden_layer_4)\n",
        "hidden_layer_5 = BatchNormalization()(hidden_layer_5)\n",
        "\n",
        "output_layer = Conv2D(2, (3, 3), activation='tanh', padding='same')(hidden_layer_5)\n",
        "\n",
        "model = Model(inputs=input_layer, outputs=output_layer)\n",
        "\n",
        "opt = tensorflow.keras.optimizers.RMSprop()\n",
        "\n",
        "model.compile(optimizer=opt, loss='mse', metrics=['accuracy'])\n",
        "\n",
        "#plot_model(model, to_file='logs/rcnn/rcnn_model.png')\n",
        "print(model.summary())"
      ],
      "execution_count": null,
      "outputs": [
        {
          "output_type": "stream",
          "name": "stdout",
          "text": [
            "Model: \"model_1\"\n",
            "_________________________________________________________________\n",
            " Layer (type)                Output Shape              Param #   \n",
            "=================================================================\n",
            " input_3 (InputLayer)        [(None, 128, 128, 1)]     0         \n",
            "                                                                 \n",
            " conv2d_7 (Conv2D)           (None, 128, 128, 32)      1600      \n",
            "                                                                 \n",
            " batch_normalization_6 (Batc  (None, 128, 128, 32)     128       \n",
            " hNormalization)                                                 \n",
            "                                                                 \n",
            " average_pooling2d_2 (Averag  (None, 64, 64, 32)       0         \n",
            " ePooling2D)                                                     \n",
            "                                                                 \n",
            " conv2d_8 (Conv2D)           (None, 64, 64, 64)        51264     \n",
            "                                                                 \n",
            " batch_normalization_7 (Batc  (None, 64, 64, 64)       256       \n",
            " hNormalization)                                                 \n",
            "                                                                 \n",
            " average_pooling2d_3 (Averag  (None, 32, 32, 64)       0         \n",
            " ePooling2D)                                                     \n",
            "                                                                 \n",
            " conv2d_9 (Conv2D)           (None, 32, 32, 128)       73856     \n",
            "                                                                 \n",
            " batch_normalization_8 (Batc  (None, 32, 32, 128)      512       \n",
            " hNormalization)                                                 \n",
            "                                                                 \n",
            " up_sampling2d_2 (UpSampling  (None, 64, 64, 128)      0         \n",
            " 2D)                                                             \n",
            "                                                                 \n",
            " conv2d_10 (Conv2D)          (None, 64, 64, 64)        73792     \n",
            "                                                                 \n",
            " batch_normalization_9 (Batc  (None, 64, 64, 64)       256       \n",
            " hNormalization)                                                 \n",
            "                                                                 \n",
            " up_sampling2d_3 (UpSampling  (None, 128, 128, 64)     0         \n",
            " 2D)                                                             \n",
            "                                                                 \n",
            " conv2d_11 (Conv2D)          (None, 128, 128, 32)      18464     \n",
            "                                                                 \n",
            " batch_normalization_10 (Bat  (None, 128, 128, 32)     128       \n",
            " chNormalization)                                                \n",
            "                                                                 \n",
            " conv2d_12 (Conv2D)          (None, 128, 128, 2)       578       \n",
            "                                                                 \n",
            "=================================================================\n",
            "Total params: 220,834\n",
            "Trainable params: 220,194\n",
            "Non-trainable params: 640\n",
            "_________________________________________________________________\n",
            "None\n"
          ]
        }
      ]
    },
    {
      "cell_type": "code",
      "metadata": {
        "colab": {
          "base_uri": "https://localhost:8080/"
        },
        "id": "VMm-A5ysgmXh",
        "outputId": "5b465feb-54b7-413c-eac0-3048196087e6"
      },
      "source": [
        "with tf.device(\"/gpu:0\"):\n",
        "   history = model.fit_generator(training_batch_generator, epochs=10, verbose=1, use_multiprocessing=True,workers=8)\n",
        "   #history = model.fit(training_batch_generator, epochs=10, verbose=1,workers=8)\n",
        "\n",
        "   print(history.history.keys())\n",
        "   # summarize history for accuracy\n",
        "   plt.plot(history.history['accuracy'])\n",
        "   plt.title('model accuracy')\n",
        "   plt.ylabel('accuracy')\n",
        "   plt.xlabel('epoch')\n",
        "   plt.legend(['train', 'test'], loc='upper left')\n",
        "   plt.savefig(log_root+\"/accuracy_plot.png\")\n",
        "   plt.show()\n",
        "   # summarize history for loss\n",
        "   plt.plot(history.history['loss'])\n",
        "   plt.title('model loss')\n",
        "   plt.ylabel('loss')\n",
        "   plt.xlabel('epoch')\n",
        "   plt.legend(['train', 'test'], loc='upper left')\n",
        "   plt.savefig(log_root+\"/loss_plot.png\")\n",
        "   plt.show()\n",
        "\n",
        "model.save(weights_root+\"/AECNNs.h5\")\n"
      ],
      "execution_count": null,
      "outputs": [
        {
          "output_type": "stream",
          "name": "stderr",
          "text": [
            "/usr/local/lib/python3.7/dist-packages/ipykernel_launcher.py:2: UserWarning: `Model.fit_generator` is deprecated and will be removed in a future version. Please use `Model.fit`, which supports generators.\n",
            "  \n"
          ]
        },
        {
          "output_type": "stream",
          "name": "stdout",
          "text": [
            "Epoch 1/10\n",
            "1563/1563 [==============================] - 1036s 652ms/step - loss: 0.0122 - accuracy: 0.6020\n",
            "Epoch 2/10\n",
            "1563/1563 [==============================] - 1034s 658ms/step - loss: 0.0078 - accuracy: 0.6242\n",
            "Epoch 3/10\n",
            "1563/1563 [==============================] - 1037s 660ms/step - loss: 0.0076 - accuracy: 0.6277\n",
            "Epoch 4/10\n",
            "1563/1563 [==============================] - 1049s 667ms/step - loss: 0.0074 - accuracy: 0.6301\n",
            "Epoch 5/10\n",
            "1563/1563 [==============================] - 1050s 668ms/step - loss: 0.0074 - accuracy: 0.6286\n",
            "Epoch 6/10\n",
            "1563/1563 [==============================] - 1054s 671ms/step - loss: 0.0072 - accuracy: 0.6334\n",
            "Epoch 7/10\n",
            "1563/1563 [==============================] - 1033s 657ms/step - loss: 0.0072 - accuracy: 0.6353\n",
            "Epoch 8/10\n",
            "1563/1563 [==============================] - 1015s 646ms/step - loss: 0.0072 - accuracy: 0.6357\n",
            "Epoch 9/10\n",
            "1563/1563 [==============================] - 1019s 649ms/step - loss: 0.0071 - accuracy: 0.6367\n",
            "Epoch 10/10\n",
            "1563/1563 [==============================] - 1027s 654ms/step - loss: 0.0071 - accuracy: 0.6374\n",
            "dict_keys(['loss', 'accuracy'])\n"
          ]
        },
        {
          "output_type": "display_data",
          "data": {
            "image/png": "[encoded data removed]",
            "text/plain": [
              "<Figure size 432x288 with 1 Axes>"
            ]
          },
          "metadata": {
            "needs_background": "light"
          }
        },
        {
          "output_type": "display_data",
          "data": {
            "image/png": "[encoded data removed]",
            "text/plain": [
              "<Figure size 432x288 with 1 Axes>"
            ]
          },
          "metadata": {
            "needs_background": "light"
          }
        }
      ]
    },
    {
      "cell_type": "code",
      "metadata": {
        "id": "32yf6utmZbJ4"
      },
      "source": [
        "import numpy as np\n",
        "import os\n",
        "from keras.models import load_model\n",
        "import matplotlib.pyplot as plt\n",
        "from skimage import io, color\n",
        "from skimage.transform import resize\n",
        "import pandas as pd"
      ],
      "execution_count": null,
      "outputs": []
    },
    {
      "cell_type": "code",
      "metadata": {
        "id": "3qZN1oJdZj0M"
      },
      "source": [
        "img_size = 128\n",
        "dataset_dir = f'{data_root}/img_align_celeba/img_align_celeba/'\n",
        "\n",
        "\n",
        "def ret_input_output_tensor(dataset_dir, n_images):\n",
        "    input_tensor = np.empty((n_images, img_size, img_size, 1))\n",
        "    output_tensor = np.empty((n_images, img_size, img_size, 2))\n",
        "\n",
        "    i = 0\n",
        "    print(len(os.listdir(dataset_dir)))\n",
        "    for filename in reversed(sorted(os.listdir(dataset_dir))):\n",
        "\n",
        "        if filename.endswith('.jpg'):\n",
        "\n",
        "            image = io.imread(dataset_dir + filename)\n",
        "            image = resize(image, (img_size, img_size, 3), anti_aliasing=False, mode='constant')\n",
        "            image = color.rgb2lab(image)\n",
        "\n",
        "            if image.shape == (img_size, img_size, 3):  # if not a BW image\n",
        "                # array image for output tensor\n",
        "                output_tensor[i, :] = (image[:, :, 1:] / 128)\n",
        "                # array values for input tensor\n",
        "                input_tensor[i, :] = (image[:, :, 0] / 100).reshape(img_size, img_size, 1)\n",
        "                i += 1\n",
        "\n",
        "        if i >= n_images: break\n",
        "\n",
        "    return input_tensor, output_tensor\n"
      ],
      "execution_count": null,
      "outputs": []
    },
    {
      "cell_type": "code",
      "metadata": {
        "id": "VdKbwdCXZnqi"
      },
      "source": [
        "print(os.listdir())\n",
        "model = load_model(\"/content/data/AECNNs.h5\")\n",
        "\n",
        "# prediction\n",
        "\n",
        "input_tensor, output_tensor = ret_input_output_tensor(dataset_dir, 10)\n",
        "\n",
        "prediction = model.predict(input_tensor)"
      ],
      "execution_count": null,
      "outputs": []
    },
    {
      "cell_type": "code",
      "metadata": {
        "id": "tzZDwZXAZq4y"
      },
      "source": [
        "for i in range(10):\n",
        "    print(\"input tensor :\\n\", input_tensor[i].shape)\n",
        "    print(\"prediction :\\n\", prediction[i])\n",
        "    print(\"output tensor :\\n\", output_tensor[i])\n",
        "\n",
        "    input_image = np.concatenate((input_tensor[i], np.zeros((img_size, img_size, 2))), axis=2)\n",
        "    input_image[:, :, 0] = input_image[:, :, 0] * 100\n",
        "    input_image = color.lab2rgb(input_image)\n",
        "    print(input_image.shape)\n",
        "    plt.imshow(input_image, cmap='gray')\n",
        "    plt.show()\n",
        "    plt.imsave('/content/data/log/'+str(i)+'_input.png', input_image)\n",
        "\n",
        "    output_image = np.concatenate((input_tensor[i], prediction[i]), axis=2)\n",
        "    output_image[:, :, 0] = output_image[:, :, 0] * 100\n",
        "    output_image[:, :, 1:] = (output_image[:, :, 1:]) * 128\n",
        "    output_image = color.lab2rgb(output_image)\n",
        "    print(output_image.shape)\n",
        "\n",
        "    plt.imshow(output_image)\n",
        "    plt.show()\n",
        "    plt.imsave('/content/data/log/' + str(i) + '_prediction.png', output_image)\n",
        "\n",
        "    output_image = np.concatenate((input_tensor[i], output_tensor[i]), axis=2)\n",
        "    output_image[:, :, 0] = output_image[:, :, 0] * 100\n",
        "    output_image[:, :, 1:] = (output_image[:, :, 1:] ) * 128\n",
        "\n",
        "    output_image = color.lab2rgb(output_image)\n",
        "    plt.imshow(output_image)\n",
        "    plt.show()\n",
        "    plt.imsave('/content/data//log/' + str(i) + '_actual.png', output_image)\n",
        "\n",
        "print(prediction.shape)\n",
        "print(pd.DataFrame(data=output_tensor[0,:,:,0]).describe())\n",
        "print(pd.DataFrame(data=prediction[0,:,:,0]).describe())\n"
      ],
      "execution_count": null,
      "outputs": []
    }
  ]
}